{
 "cells": [
  {
   "cell_type": "code",
   "execution_count": null,
   "metadata": {},
   "outputs": [],
   "source": [
    "import bokeh.plotting as bk\n",
    "from bokeh.models import LogColorMapper\n",
    "from bokeh.palettes import Viridis6 as palette"
   ]
  },
  {
   "cell_type": "code",
   "execution_count": null,
   "metadata": {},
   "outputs": [],
   "source": [
    "# Next we generate the data we'll be plotting\n",
    "x = [1,2,3,4,5,6]\n",
    "y = [10,1,-2,7,12,10]\n",
    "\n",
    "# Set our settings to display our plot inside of jupyter\n",
    "bk.output_notebook()\n",
    "\n",
    "# We make a bokeh figure object\n",
    "p = bk.figure(title = \"Our First bokeh Plot\", x_axis_label = \"x\", \n",
    "           y_axis_label = \"y\", y_range = [-3,14])\n",
    "\n",
    "# We now add a line to our figure\n",
    "p.line(x, y, legend = \"Quarterly Returns\", line_width = 3)\n",
    "\n",
    "# Show the plot\n",
    "bk.show(p)"
   ]
  },
  {
   "cell_type": "code",
   "execution_count": null,
   "metadata": {},
   "outputs": [],
   "source": [
    "from bokeh.io import output_file, show\n",
    "from bokeh.models import GeoJSONDataSource\n",
    "from bokeh.plotting import figure\n",
    "from bokeh.sampledata.sample_geojson import geojson\n",
    "import os"
   ]
  },
  {
   "cell_type": "code",
   "execution_count": null,
   "metadata": {},
   "outputs": [],
   "source": [
    "output_file(\"geojson.html\")\n",
    "\n",
    "geo_source = GeoJSONDataSource(geojson=geojson)\n",
    "json_dir = r'C:\\PythonBC\\State-zip-code-GeoJSON'\n",
    "fname_json = 'map_ND.geojson'\n",
    "zip_geo = os.path.join(json_dir, fname_json)\n",
    "geo_source = GeoJSONDataSource(geojson=zip_geo)\n",
    "\n",
    "p = figure(background_fill_color=\"lightgrey\")\n",
    "p.circle(x='x', y='y', size=15, alpha=0.7, source=geo_source)\n",
    "\n",
    "show(p)"
   ]
  },
  {
   "cell_type": "code",
   "execution_count": null,
   "metadata": {},
   "outputs": [],
   "source": [
    "from bqplot import pyplot as plt\n",
    "from bqplot import (\n",
    "    Map, Mercator, Orthographic, ColorScale, ColorAxis,\n",
    "    AlbersUSA, topo_load, Tooltip\n",
    ")\n",
    "import os\n",
    "\n",
    "sc_geo = Mercator(center=(11,56.7), scale_factor=7000)\n",
    "\n",
    "map_mark_dk = Map(map_data=topo_load(zip_geo), scales={'projection': sc_geo})\n",
    "\n",
    "map_style_eu = {'scales': {'projection': sc_geo}, 'colors': {'default_color': 'Grey'}}\n",
    "map_mark_eu = Map(map_data=topo_load('map_data/EuropeMap.json'), **map_style_eu)\n",
    "\n",
    "map_fig_1 = plt.figure(marks=[map_mark_eu, map_mark_dk], fig_color='deepskyblue', title='Test for Denmark Kommune map')\n",
    "display(map_fig_1)"
   ]
  },
  {
   "cell_type": "code",
   "execution_count": null,
   "metadata": {},
   "outputs": [],
   "source": []
  }
 ],
 "metadata": {
  "kernelspec": {
   "display_name": "Python 3",
   "language": "python",
   "name": "python3"
  },
  "language_info": {
   "codemirror_mode": {
    "name": "ipython",
    "version": 3
   },
   "file_extension": ".py",
   "mimetype": "text/x-python",
   "name": "python",
   "nbconvert_exporter": "python",
   "pygments_lexer": "ipython3",
   "version": "3.6.8"
  }
 },
 "nbformat": 4,
 "nbformat_minor": 2
}
