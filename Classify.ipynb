{
 "cells": [
  {
   "cell_type": "code",
   "execution_count": null,
   "metadata": {},
   "outputs": [],
   "source": [
    "import load_file as lf\n",
    "import zip_codes\n",
    "import time\n",
    "import pandas as pd\n",
    "import numpy as np\n",
    "import matplotlib.pyplot as plt\n",
    "from sklearn.linear_model import *\n",
    "from sklearn.neural_network import MLPClassifier\n",
    "from sklearn.ensemble import *\n",
    "from sklearn.preprocessing import StandardScaler\n",
    "from sklearn.discriminant_analysis import *\n",
    "from category_encoders import *\n",
    "import model_metrics as mm\n",
    "from imblearn.under_sampling import RandomUnderSampler"
   ]
  },
  {
   "cell_type": "markdown",
   "metadata": {},
   "source": [
    "# Load Data"
   ]
  },
  {
   "cell_type": "code",
   "execution_count": null,
   "metadata": {},
   "outputs": [],
   "source": [
    "zc = zip_codes.ZC()\n",
    "path = '/Users/evan/Documents/root/IndividualDays/'"
   ]
  },
  {
   "cell_type": "code",
   "execution_count": null,
   "metadata": {},
   "outputs": [],
   "source": [
    "start = time.time()\n",
    "\n",
    "df = pd.concat([lf.temp_load(path + \"geo_zip.gzip\"),\n",
    "               lf.temp_load(path + \"bid_floor.gzip\"),\n",
    "               #lf.temp_load(path + \"creative_size.gzip\"),\n",
    "               lf.temp_load(path + \"creative_type.gzip\"),\n",
    "               lf.temp_load(path + \"bid_timestamp_utc.gzip\"),\n",
    "               lf.temp_load(path + \"inventory_interstitial.gzip\"),\n",
    "               lf.temp_load(path + \"inventory_source.gzip\"),\n",
    "               lf.temp_load(path + \"platform_bandwidth.gzip\"),\n",
    "               lf.temp_load(path + \"platform_carrier.gzip\"),\n",
    "               lf.temp_load(path + \"platform_device_make.gzip\"),\n",
    "               lf.temp_load(path + \"platform_device_screen_size.gzip\"),\n",
    "               lf.temp_load(path + \"clicks.gzip\")],axis = 1)\n",
    "\n",
    "end = time.time()\n",
    "\n",
    "print('time to load file: {0:3.3f} seconds'.format(end-start))"
   ]
  },
  {
   "cell_type": "markdown",
   "metadata": {},
   "source": [
    "# Clean Data"
   ]
  },
  {
   "cell_type": "markdown",
   "metadata": {},
   "source": [
    "### Get a single state and coordinates from zip"
   ]
  },
  {
   "cell_type": "code",
   "execution_count": null,
   "metadata": {},
   "outputs": [],
   "source": [
    "df['state'] = zc.zip_to_state_2(df['geo_zip'])\n",
    "\n",
    "dfST = df.query('state == \"MS\"')\n",
    "dfST = dfST.drop(['state'],axis = 1)\n",
    "\n",
    "dfST['latitude'] = zc.zip_to_lat_2(dfST['geo_zip'])\n",
    "dfST['longitude'] = zc.zip_to_lon_2(dfST['geo_zip'])\n",
    "dfST = dfST.drop(['geo_zip'], axis = 1)"
   ]
  },
  {
   "cell_type": "code",
   "execution_count": null,
   "metadata": {},
   "outputs": [],
   "source": [
    "dfST['lat2']=dfST['latitude']**2\n",
    "dfST['lon2']=dfST['longitude']**2"
   ]
  },
  {
   "cell_type": "markdown",
   "metadata": {},
   "source": [
    "### Format time"
   ]
  },
  {
   "cell_type": "code",
   "execution_count": null,
   "metadata": {},
   "outputs": [],
   "source": [
    "dfST['time'] = dfST.bid_timestamp_utc.dt.hour + \\\n",
    "dfST.bid_timestamp_utc.dt.minute/60 + dfST.bid_timestamp_utc.dt.second/3600\n",
    "dfST['weekday'] = dfST.bid_timestamp_utc.dt.dayofweek\n",
    "dfST['yearday'] = dfST.bid_timestamp_utc.dt.dayofyear\n",
    "dfST = dfST.drop(['bid_timestamp_utc'],axis = 1)"
   ]
  },
  {
   "cell_type": "code",
   "execution_count": null,
   "metadata": {},
   "outputs": [],
   "source": [
    "# dfSTtr = dfST.iloc[:450000, :]\n",
    "# dfSTcv = dfST.iloc[450000:, :]\n",
    "# dfST = None"
   ]
  },
  {
   "cell_type": "code",
   "execution_count": null,
   "metadata": {},
   "outputs": [],
   "source": [
    "# dfSTtr.shape,dfSTcv.shape"
   ]
  },
  {
   "cell_type": "code",
   "execution_count": null,
   "metadata": {},
   "outputs": [],
   "source": [
    "# dfSTtrY = dfSTtr.clicks\n",
    "# dfSTtr = dfSTtr.drop(['clicks'],axis = 1)\n",
    "# dfSTcvY = dfSTcv.clicks\n",
    "# dfSTcv = dfSTcv.drop(['clicks'],axis = 1)"
   ]
  },
  {
   "cell_type": "markdown",
   "metadata": {},
   "source": [
    "### One-hot encoding on some columns"
   ]
  },
  {
   "cell_type": "code",
   "execution_count": null,
   "metadata": {
    "scrolled": true
   },
   "outputs": [],
   "source": [
    "dfST = pd.concat([dfST,pd.get_dummies(dfST.creative_type,dummy_na=True)],axis=1)\n",
    "dfST = dfST.drop(['creative_type'],axis = 1)\n",
    "dfST.columns = dfST.columns.fillna('crtvtypNaN')"
   ]
  },
  {
   "cell_type": "code",
   "execution_count": null,
   "metadata": {
    "scrolled": true
   },
   "outputs": [],
   "source": [
    "dfST = pd.concat([dfST,pd.get_dummies(dfST.inventory_source,dummy_na=True)],axis=1)\n",
    "dfST = dfST.drop(['inventory_source'],axis = 1)\n",
    "dfST.columns = dfST.columns.fillna('invsrcNaN')"
   ]
  },
  {
   "cell_type": "code",
   "execution_count": null,
   "metadata": {},
   "outputs": [],
   "source": [
    "dfST.platform_bandwidth.unique()# I don't want to one-hot encode this one"
   ]
  },
  {
   "cell_type": "code",
   "execution_count": null,
   "metadata": {
    "scrolled": true
   },
   "outputs": [],
   "source": [
    "dfST = pd.concat([dfST,pd.get_dummies(dfST.platform_carrier,dummy_na=True)],axis=1)\n",
    "dfST = dfST.drop(['platform_carrier'],axis = 1)\n",
    "dfST.columns = dfST.columns.fillna('platcarrNaN')"
   ]
  },
  {
   "cell_type": "code",
   "execution_count": null,
   "metadata": {},
   "outputs": [],
   "source": [
    "dfST.platform_device_make.unique()# This one should maybe not be one-hot encoded"
   ]
  },
  {
   "cell_type": "code",
   "execution_count": null,
   "metadata": {},
   "outputs": [],
   "source": [
    "dfST.platform_device_screen_size.unique()# I don't want to one-hot encode this one"
   ]
  },
  {
   "cell_type": "markdown",
   "metadata": {},
   "source": [
    "### Separate out clicks from data"
   ]
  },
  {
   "cell_type": "code",
   "execution_count": null,
   "metadata": {},
   "outputs": [],
   "source": [
    "clicks = dfST['clicks']\n",
    "dfST = dfST.drop(['clicks'],axis = 1)"
   ]
  },
  {
   "cell_type": "markdown",
   "metadata": {},
   "source": [
    "### LeaveOneOut encoding for some columns"
   ]
  },
  {
   "cell_type": "code",
   "execution_count": null,
   "metadata": {},
   "outputs": [],
   "source": [
    "enc = LeaveOneOutEncoder(cols=['platform_bandwidth', 'platform_device_make','platform_device_screen_size']).fit(dfST,clicks)\n",
    "dfSTnum = enc.transform(dfST)"
   ]
  },
  {
   "cell_type": "markdown",
   "metadata": {},
   "source": [
    "### Separate into training and cv sets"
   ]
  },
  {
   "cell_type": "markdown",
   "metadata": {},
   "source": [
    "Since data is time ordered, splitting the data this way makes sense"
   ]
  },
  {
   "cell_type": "code",
   "execution_count": null,
   "metadata": {
    "scrolled": true
   },
   "outputs": [],
   "source": [
    "dfSTtr = dfSTnum.iloc[:450000, :]\n",
    "dfSTcv = dfSTnum.iloc[450000:, :]\n",
    "clickstr = clicks.iloc[:450000]\n",
    "clickscv = clicks.iloc[450000:]\n",
    "print(dfSTtr.shape,dfSTcv.shape,clickstr.shape,clickscv.shape)"
   ]
  },
  {
   "cell_type": "markdown",
   "metadata": {},
   "source": [
    "### Feature scaling"
   ]
  },
  {
   "cell_type": "markdown",
   "metadata": {},
   "source": [
    "Only scaling based on the training data"
   ]
  },
  {
   "cell_type": "code",
   "execution_count": null,
   "metadata": {},
   "outputs": [],
   "source": [
    "scaler = StandardScaler().fit(dfSTtr)\n",
    "dfSTsc_tr = pd.DataFrame(scaler.transform(dfSTtr))\n",
    "dfSTsc_cv = pd.DataFrame(scaler.transform(dfSTcv))"
   ]
  },
  {
   "cell_type": "markdown",
   "metadata": {},
   "source": [
    "### Make a sparse DataFrame from training data"
   ]
  },
  {
   "cell_type": "code",
   "execution_count": null,
   "metadata": {},
   "outputs": [],
   "source": [
    "dfSTsprstr = dfSTsc_tr.to_sparse()\n",
    "dfSTsprscv = dfSTsc_cv.to_sparse()\n",
    "dfSTsprstr.shape,dfSTsprscv.shape"
   ]
  },
  {
   "cell_type": "markdown",
   "metadata": {},
   "source": [
    "### Classifying"
   ]
  },
  {
   "cell_type": "code",
   "execution_count": null,
   "metadata": {},
   "outputs": [],
   "source": [
    "dfSTUStr, clickUStr = RandomUnderSampler(random_state=1).fit_sample(dfSTsprstr,clickstr)\n",
    "dfSTUStr.shape, clickUStr.shape"
   ]
  },
  {
   "cell_type": "code",
   "execution_count": null,
   "metadata": {},
   "outputs": [],
   "source": [
    "s= time.time()\n",
    "#clf = MLPClassifier(hidden_layer_sizes = (100,100),tol = 1e-5,warm_start = True)\n",
    "clf = LinearDiscriminantAnalysis()\n",
    "\n",
    "clf.fit(dfSTUStr, clickUStr)\n",
    "print (time.time()-s)\n",
    "\n",
    "ypred = clf.predict(dfSTsprscv)\n",
    "\n",
    "conf,ax=plt.subplots()\n",
    "mm.plot_confusion_matrix(clickscv,ypred,ax,title = \"Confusion\")"
   ]
  },
  {
   "cell_type": "code",
   "execution_count": null,
   "metadata": {},
   "outputs": [],
   "source": []
  },
  {
   "cell_type": "code",
   "execution_count": null,
   "metadata": {},
   "outputs": [],
   "source": []
  },
  {
   "cell_type": "code",
   "execution_count": null,
   "metadata": {},
   "outputs": [],
   "source": [
    "# from https://scikit-learn.org/stable/auto_examples/model_selection/plot_learning_curve.html\n",
    "print(__doc__)\n",
    "\n",
    "import numpy as np\n",
    "import matplotlib.pyplot as plt\n",
    "from sklearn.naive_bayes import GaussianNB\n",
    "from sklearn.svm import SVC\n",
    "from sklearn.datasets import load_digits\n",
    "from sklearn.model_selection import learning_curve\n",
    "from sklearn.model_selection import ShuffleSplit\n",
    "\n",
    "\n",
    "def plot_learning_curve(estimator, title, X, y, ylim=None, cv=None,\n",
    "                        n_jobs=None, train_sizes=np.linspace(.1, 1.0, 5)):\n",
    "    \"\"\"\n",
    "    Generate a simple plot of the test and training learning curve.\n",
    "\n",
    "    Parameters\n",
    "    ----------\n",
    "    estimator : object type that implements the \"fit\" and \"predict\" methods\n",
    "        An object of that type which is cloned for each validation.\n",
    "\n",
    "    title : string\n",
    "        Title for the chart.\n",
    "\n",
    "    X : array-like, shape (n_samples, n_features)\n",
    "        Training vector, where n_samples is the number of samples and\n",
    "        n_features is the number of features.\n",
    "\n",
    "    y : array-like, shape (n_samples) or (n_samples, n_features), optional\n",
    "        Target relative to X for classification or regression;\n",
    "        None for unsupervised learning.\n",
    "\n",
    "    ylim : tuple, shape (ymin, ymax), optional\n",
    "        Defines minimum and maximum yvalues plotted.\n",
    "\n",
    "    cv : int, cross-validation generator or an iterable, optional\n",
    "        Determines the cross-validation splitting strategy.\n",
    "        Possible inputs for cv are:\n",
    "          - None, to use the default 3-fold cross-validation,\n",
    "          - integer, to specify the number of folds.\n",
    "          - :term:`CV splitter`,\n",
    "          - An iterable yielding (train, test) splits as arrays of indices.\n",
    "\n",
    "        For integer/None inputs, if ``y`` is binary or multiclass,\n",
    "        :class:`StratifiedKFold` used. If the estimator is not a classifier\n",
    "        or if ``y`` is neither binary nor multiclass, :class:`KFold` is used.\n",
    "\n",
    "        Refer :ref:`User Guide <cross_validation>` for the various\n",
    "        cross-validators that can be used here.\n",
    "\n",
    "    n_jobs : int or None, optional (default=None)\n",
    "        Number of jobs to run in parallel.\n",
    "        ``None`` means 1 unless in a :obj:`joblib.parallel_backend` context.\n",
    "        ``-1`` means using all processors. See :term:`Glossary <n_jobs>`\n",
    "        for more details.\n",
    "\n",
    "    train_sizes : array-like, shape (n_ticks,), dtype float or int\n",
    "        Relative or absolute numbers of training examples that will be used to\n",
    "        generate the learning curve. If the dtype is float, it is regarded as a\n",
    "        fraction of the maximum size of the training set (that is determined\n",
    "        by the selected validation method), i.e. it has to be within (0, 1].\n",
    "        Otherwise it is interpreted as absolute sizes of the training sets.\n",
    "        Note that for classification the number of samples usually have to\n",
    "        be big enough to contain at least one sample from each class.\n",
    "        (default: np.linspace(0.1, 1.0, 5))\n",
    "    \"\"\"\n",
    "    plt.figure()\n",
    "    plt.title(title)\n",
    "    if ylim is not None:\n",
    "        plt.ylim(*ylim)\n",
    "    plt.xlabel(\"Training examples\")\n",
    "    plt.ylabel(\"Score\")\n",
    "    train_sizes, train_scores, test_scores = learning_curve(\n",
    "        estimator, X, y, cv=cv, n_jobs=n_jobs, train_sizes=train_sizes)\n",
    "    train_scores_mean = np.mean(train_scores, axis=1)\n",
    "    train_scores_std = np.std(train_scores, axis=1)\n",
    "    test_scores_mean = np.mean(test_scores, axis=1)\n",
    "    test_scores_std = np.std(test_scores, axis=1)\n",
    "    plt.grid()\n",
    "\n",
    "    plt.fill_between(train_sizes, train_scores_mean - train_scores_std,\n",
    "                     train_scores_mean + train_scores_std, alpha=0.1,\n",
    "                     color=\"r\")\n",
    "    plt.fill_between(train_sizes, test_scores_mean - test_scores_std,\n",
    "                     test_scores_mean + test_scores_std, alpha=0.1, color=\"g\")\n",
    "    plt.plot(train_sizes, train_scores_mean, 'o-', color=\"r\",\n",
    "             label=\"Training score\")\n",
    "    plt.plot(train_sizes, test_scores_mean, 'o-', color=\"g\",\n",
    "             label=\"Cross-validation score\")\n",
    "\n",
    "    plt.legend(loc=\"best\")\n",
    "    return plt\n",
    "\n",
    "\n",
    "digits = load_digits()\n",
    "X, y = digits.data, digits.target\n",
    "\n",
    "\n",
    "title = \"Learning Curves (Naive Bayes)\"\n",
    "# Cross validation with 100 iterations to get smoother mean test and train\n",
    "# score curves, each time with 20% data randomly selected as a validation set.\n",
    "cv = ShuffleSplit(n_splits=100, test_size=0.2, random_state=0)\n",
    "\n",
    "estimator = GaussianNB()\n",
    "plot_learning_curve(estimator, title, X, y, ylim=(0.7, 1.01), cv=cv, n_jobs=4)\n",
    "\n",
    "title = r\"Learning Curves (SVM, RBF kernel, $\\gamma=0.001$)\"\n",
    "# SVC is more expensive so we do a lower number of CV iterations:\n",
    "cv = ShuffleSplit(n_splits=10, test_size=0.2, random_state=0)\n",
    "estimator = SVC(gamma=0.001)\n",
    "plot_learning_curve(estimator, title, X, y, (0.7, 1.01), cv=cv, n_jobs=4)\n",
    "\n",
    "plt.show();"
   ]
  },
  {
   "cell_type": "code",
   "execution_count": null,
   "metadata": {},
   "outputs": [],
   "source": [
    "plot_learning_curve(clf,'My Learning Curve',dfSTUStr, clickUStr)"
   ]
  },
  {
   "cell_type": "code",
   "execution_count": null,
   "metadata": {},
   "outputs": [],
   "source": []
  },
  {
   "cell_type": "code",
   "execution_count": null,
   "metadata": {},
   "outputs": [],
   "source": []
  }
 ],
 "metadata": {
  "kernelspec": {
   "display_name": "Python 3",
   "language": "python",
   "name": "python3"
  },
  "language_info": {
   "codemirror_mode": {
    "name": "ipython",
    "version": 3
   },
   "file_extension": ".py",
   "mimetype": "text/x-python",
   "name": "python",
   "nbconvert_exporter": "python",
   "pygments_lexer": "ipython3",
   "version": "3.7.3"
  }
 },
 "nbformat": 4,
 "nbformat_minor": 2
}
