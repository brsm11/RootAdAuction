{
 "cells": [
  {
   "cell_type": "markdown",
   "metadata": {},
   "source": [
    "## Load Data"
   ]
  },
  {
   "cell_type": "code",
   "execution_count": null,
   "metadata": {},
   "outputs": [],
   "source": [
    "import os, sys, time\n",
    "import pandas as pd\n",
    "import matplotlib.pyplot as plt\n",
    "import numpy as np\n",
    "import seaborn as sns\n",
    "plt.rcParams['figure.dpi'] = 240 # fix high-dpi display scaling issues (only if you have a 4k monitor)\n",
    "\n",
    "sys.path.append(os.getcwd()) # add cwd to path\n",
    "\n",
    "from zip_codes import ZC # zip code database\n",
    "import load_file as lf # file i/o\n",
    "import myplots as mp # my plotting functions\n",
    "import file_reshaper as fr # file reshaper\n",
    "\n",
    "zc = ZC(fdir='') # initialize zip code class"
   ]
  },
  {
   "cell_type": "code",
   "execution_count": null,
   "metadata": {},
   "outputs": [],
   "source": [
    "data_dir = r'C:\\PythonBC\\RootData'\n",
    "\n",
    "fname = 'clicks.gzip'\n",
    "df_clicks = lf.temp_load( os.path.join(data_dir, fname)  )\n",
    "\n",
    "fname = 'state.gzip'\n",
    "df_state = lf.temp_load( os.path.join(data_dir, fname)  )\n",
    "\n",
    "fname = 'installs.gzip'\n",
    "df_installs = lf.temp_load( os.path.join(data_dir, fname)  )\n",
    "\n",
    "frames = [df_state, df_clicks, df_installs]\n",
    "df = pd.concat(frames, axis=1)"
   ]
  },
  {
   "cell_type": "code",
   "execution_count": null,
   "metadata": {},
   "outputs": [],
   "source": [
    "# number of clicks per state\n",
    "dfstates = df.groupby('state').sum()['clicks'].to_frame()\n",
    "dfstates.reset_index(level=0, inplace=True)\n",
    "\n",
    "# number of bids per state\n",
    "dfstates2 = df.groupby('state').count()['clicks'].to_frame()\n",
    "dfstates2.reset_index(level=0, inplace=True)\n",
    "dfstates2.rename(index=str, columns={\"state\": \"state\", \"clicks\": \"bids\"})\n",
    "\n",
    "# number of installs per state\n",
    "dfstates3 = df.groupby('state').sum()['installs'].to_frame()\n",
    "dfstates3.reset_index(level=0, inplace=True)\n",
    "dfstates3.rename(index=str, columns={\"state\": \"state\", \"clicks\": \"installs\"})\n",
    "\n",
    "# build new dataframe\n",
    "bids = dfstates2.clicks.values\n",
    "clicks = dfstates.clicks.values\n",
    "installs = np.asarray(dfstates3.installs)\n",
    "state = dfstates.state.values\n",
    "clickrate = 100*np.divide(clicks, bids)\n",
    "installrate = 100*np.divide(installs, bids)\n",
    "frames = {\"state\": state, \"bids\": bids, \"clicks\": clicks, \"installs\": installs, \"clickrate\":clickrate, \"installrate\": installrate}\n",
    "df_rate = pd.DataFrame(data=frames)\n",
    "df_rate_nonzero = df_rate[df_clickrate.clickrate > 0]"
   ]
  },
  {
   "cell_type": "markdown",
   "metadata": {},
   "source": [
    "## Make a folium map"
   ]
  },
  {
   "cell_type": "code",
   "execution_count": null,
   "metadata": {},
   "outputs": [],
   "source": [
    "import folium\n",
    "#url = 'https://raw.githubusercontent.com/python-visualization/folium/master/examples/data'\n",
    "#state_geo = f'{url}/us-states.json'\n",
    "fname = 'us-states.json' # local copy of json file"
   ]
  },
  {
   "cell_type": "code",
   "execution_count": null,
   "metadata": {},
   "outputs": [],
   "source": []
  },
  {
   "cell_type": "code",
   "execution_count": null,
   "metadata": {
    "scrolled": false
   },
   "outputs": [],
   "source": [
    "m = folium.Map(location=[39.50, -98.35], zoom_start=4) # lower 48\n",
    "folium.Choropleth(\n",
    "    geo_data=state_geo,\n",
    "    name='choropleth',\n",
    "    data=df_rate_nonzero,\n",
    "    columns=['state', 'clickrate'],\n",
    "    key_on='feature.id',\n",
    "    fill_color='YlGn',\n",
    "    fill_opacity=0.7,\n",
    "    line_opacity=0.2,\n",
    "    legend_name='click rate (%)'\n",
    ").add_to(m)\n",
    "folium.LayerControl().add_to(m)\n",
    "m"
   ]
  },
  {
   "cell_type": "code",
   "execution_count": null,
   "metadata": {},
   "outputs": [],
   "source": [
    "save_path = r'C:\\PythonBC\\RootData'\n",
    "m.save(os.path.join(save_path, 'clickrate.html'))"
   ]
  },
  {
   "cell_type": "code",
   "execution_count": null,
   "metadata": {},
   "outputs": [],
   "source": [
    "m = folium.Map(location=[39.50, -98.35], zoom_start=4) # lower 48\n",
    "folium.Choropleth(\n",
    "    geo_data=state_geo,\n",
    "    name='choropleth',\n",
    "    data=df_rate_nonzero,\n",
    "    columns=['state', 'installrate'],\n",
    "    key_on='feature.id',\n",
    "    fill_color='YlGn',\n",
    "    fill_opacity=0.7,\n",
    "    line_opacity=0.2,\n",
    "    legend_name='click rate (%)'\n",
    ").add_to(m)\n",
    "folium.LayerControl().add_to(m)\n",
    "m"
   ]
  },
  {
   "cell_type": "code",
   "execution_count": null,
   "metadata": {},
   "outputs": [],
   "source": [
    "save_path = r'C:\\PythonBC\\RootData'\n",
    "m.save(os.path.join(save_path, 'installrate.html'))"
   ]
  },
  {
   "cell_type": "markdown",
   "metadata": {},
   "source": [
    "## Zip code level map of an individual state"
   ]
  },
  {
   "cell_type": "code",
   "execution_count": null,
   "metadata": {},
   "outputs": [],
   "source": [
    "df.state.value_counts()"
   ]
  },
  {
   "cell_type": "code",
   "execution_count": null,
   "metadata": {},
   "outputs": [],
   "source": [
    "df_state = df[df.state == 'ND']\n",
    "df_state.geo_zip = df_state.geo_zip.apply(int)\n",
    "print(df_state.shape)\n",
    "dfzips = df.groupby('geo_zip').sum()['clicks'].to_frame()\n",
    "dfzips.reset_index(level=0, inplace=True)"
   ]
  },
  {
   "cell_type": "code",
   "execution_count": null,
   "metadata": {},
   "outputs": [],
   "source": [
    "import folium\n",
    "json_dir = r'C:\\PythonBC\\State-zip-code-GeoJSON'\n",
    "fname_json = 'map_ND.geojson'\n",
    "zip_geo = os.path.join(json_dir, fname_json)\n",
    "print(zip_geo)\n",
    "m = folium.Map(location=[47.5515, -101.0020], zoom_start=6) # north dakota\n",
    "folium.Choropleth(\n",
    "    geo_data=zip_geo,\n",
    "    name='choropleth',\n",
    "    data=dfzips,\n",
    "    columns=['geo_zip', 'clicks'],\n",
    "    key_on=\"feature.properties.ZCTA5CE10\",\n",
    "    fill_color='YlGn',\n",
    "    fill_opacity=0.7,\n",
    "    line_opacity=0.2,\n",
    "    legend_name='clicks'\n",
    ").add_to(m)\n",
    "folium.LayerControl().add_to(m)\n",
    "m\n",
    "m.save('index.html')\n"
   ]
  },
  {
   "cell_type": "code",
   "execution_count": null,
   "metadata": {},
   "outputs": [],
   "source": [
    "print(df_state.geo_zip.iloc[0])\n",
    "print(type(df_state.geo_zip.iloc[0]))"
   ]
  },
  {
   "cell_type": "code",
   "execution_count": null,
   "metadata": {},
   "outputs": [],
   "source": [
    "type(dfzips)"
   ]
  },
  {
   "cell_type": "code",
   "execution_count": null,
   "metadata": {},
   "outputs": [],
   "source": []
  }
 ],
 "metadata": {
  "kernelspec": {
   "display_name": "Python 3",
   "language": "python",
   "name": "python3"
  },
  "language_info": {
   "codemirror_mode": {
    "name": "ipython",
    "version": 3
   },
   "file_extension": ".py",
   "mimetype": "text/x-python",
   "name": "python",
   "nbconvert_exporter": "python",
   "pygments_lexer": "ipython3",
   "version": "3.6.8"
  }
 },
 "nbformat": 4,
 "nbformat_minor": 2
}
